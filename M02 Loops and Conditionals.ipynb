{
 "cells": [
  {
   "cell_type": "code",
   "execution_count": null,
   "id": "12740fbd",
   "metadata": {},
   "outputs": [],
   "source": [
    "# 4.1 Choose a number between 1 and 10 and assign it to the variable secret."
   ]
  },
  {
   "cell_type": "code",
   "execution_count": 3,
   "id": "67934d2c",
   "metadata": {},
   "outputs": [],
   "source": [
    "secret = 4"
   ]
  },
  {
   "cell_type": "code",
   "execution_count": 4,
   "id": "1ef413e0",
   "metadata": {},
   "outputs": [],
   "source": [
    "guess = 2"
   ]
  },
  {
   "cell_type": "code",
   "execution_count": 5,
   "id": "7749c38a",
   "metadata": {
    "scrolled": true
   },
   "outputs": [
    {
     "name": "stdout",
     "output_type": "stream",
     "text": [
      "too low\n"
     ]
    }
   ],
   "source": [
    "if guess < secret:\n",
    "    print('too low')\n",
    "elif guess > secret:\n",
    "    print('too high')\n",
    "else:\n",
    "    print('just right')"
   ]
  },
  {
   "cell_type": "code",
   "execution_count": 10,
   "id": "0eef2b1b",
   "metadata": {},
   "outputs": [],
   "source": [
    "#4.2 Assign true or false to the variables small and green. Write some if/else statemnts to print which of these matches those\n",
    "# :cherry, pea, watermelon, pumpkin."
   ]
  },
  {
   "cell_type": "code",
   "execution_count": 21,
   "id": "3d6a965e",
   "metadata": {},
   "outputs": [
    {
     "name": "stdout",
     "output_type": "stream",
     "text": [
      "cherry\n"
     ]
    }
   ],
   "source": [
    "small = True\n",
    "green = False\n",
    "if small:\n",
    "    if green:\n",
    "        print('Pea')\n",
    "    else:\n",
    "        print('cherry')\n",
    "else:\n",
    "    if green:\n",
    "        print:('watermelon')\n",
    "    else: \n",
    "        print('pumpkin')"
   ]
  },
  {
   "cell_type": "code",
   "execution_count": null,
   "id": "10b61956",
   "metadata": {},
   "outputs": [],
   "source": [
    "# Chapter 6 Loop with while and for."
   ]
  },
  {
   "cell_type": "code",
   "execution_count": null,
   "id": "87ce4337",
   "metadata": {},
   "outputs": [],
   "source": [
    "#6.1 Use a for loop to print the values of the list [3,2,1,0]"
   ]
  },
  {
   "cell_type": "code",
   "execution_count": 18,
   "id": "a2ead03c",
   "metadata": {
    "scrolled": true
   },
   "outputs": [
    {
     "name": "stdout",
     "output_type": "stream",
     "text": [
      "3\n",
      "2\n",
      "1\n",
      "0\n"
     ]
    }
   ],
   "source": [
    "for value in [3,2,1,0]:\n",
    "    print(value)"
   ]
  },
  {
   "cell_type": "code",
   "execution_count": null,
   "id": "47c5a629",
   "metadata": {},
   "outputs": [],
   "source": [
    "#6.2 Assign the value 7 to the variable guess_me, and the value 1 to the variable number.\n",
    "# Write a while loop that compares number with guess_me. \n",
    "#Print 'too low' if number is less than guess me.\n",
    "#if number is equal to guess_me, print 'found it!' then exit loop\n",
    "# If number is greater than guess_me, print 'oops' then exit loop\n",
    "#Increment number at the end of the loop"
   ]
  },
  {
   "cell_type": "code",
   "execution_count": 20,
   "id": "58606539",
   "metadata": {},
   "outputs": [
    {
     "name": "stdout",
     "output_type": "stream",
     "text": [
      "too low\n",
      "too low\n",
      "too low\n",
      "too low\n",
      "too low\n",
      "too low\n",
      "found it!\n"
     ]
    }
   ],
   "source": [
    "guess_me = 7\n",
    "number = 1\n",
    "\n",
    "while True:\n",
    "    if number < guess_me:\n",
    "        print('too low')\n",
    "    elif number == guess_me:\n",
    "        print('found it!')\n",
    "        break\n",
    "    elif number > guess_me:\n",
    "        print('oops')\n",
    "        break\n",
    "    number += 1"
   ]
  },
  {
   "cell_type": "code",
   "execution_count": null,
   "id": "6c863297",
   "metadata": {},
   "outputs": [],
   "source": [
    "#6.3 Assign value 5 to the variable guess_me.\n",
    "# Use a for loop to interate a variable called number over range(10)\n",
    "# If number is less than guess_me, print 'too low'\n",
    "# If it equals guess_me, print 'found it!' exit loop\n",
    "# If number is greater than guess_me, print 'oops' exit loop"
   ]
  },
  {
   "cell_type": "code",
   "execution_count": 22,
   "id": "3f47ab49",
   "metadata": {},
   "outputs": [
    {
     "name": "stdout",
     "output_type": "stream",
     "text": [
      "too low\n",
      "too low\n",
      "too low\n",
      "too low\n",
      "too low\n",
      "found it!\n"
     ]
    }
   ],
   "source": [
    "guess_me = 5\n",
    "\n",
    "for number in range(10):\n",
    "    if number < guess_me:\n",
    "        print('too low')\n",
    "    elif number == guess_me:\n",
    "        print('found it!')\n",
    "        break\n",
    "    else:\n",
    "        print('oops')\n",
    "        break"
   ]
  },
  {
   "cell_type": "code",
   "execution_count": null,
   "id": "1e80e831",
   "metadata": {},
   "outputs": [],
   "source": []
  }
 ],
 "metadata": {
  "kernelspec": {
   "display_name": "Python 3 (ipykernel)",
   "language": "python",
   "name": "python3"
  },
  "language_info": {
   "codemirror_mode": {
    "name": "ipython",
    "version": 3
   },
   "file_extension": ".py",
   "mimetype": "text/x-python",
   "name": "python",
   "nbconvert_exporter": "python",
   "pygments_lexer": "ipython3",
   "version": "3.11.5"
  }
 },
 "nbformat": 4,
 "nbformat_minor": 5
}
